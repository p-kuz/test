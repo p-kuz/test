{
 "cells": [
  {
   "cell_type": "code",
   "execution_count": 62,
   "id": "a4b344db",
   "metadata": {},
   "outputs": [],
   "source": [
    "import kagglehub\n",
    "import pandas as pd\n",
    "import numpy as np\n",
    "import matplotlib.pyplot as plt\n",
    "import seaborn as sns"
   ]
  },
  {
   "cell_type": "markdown",
   "id": "ecc4dbbb",
   "metadata": {},
   "source": [
    "# Считывание"
   ]
  },
  {
   "cell_type": "code",
   "execution_count": 4,
   "id": "bc10641f",
   "metadata": {},
   "outputs": [
    {
     "name": "stdout",
     "output_type": "stream",
     "text": [
      "Downloading from https://www.kaggle.com/api/v1/datasets/download/willianoliveiragibin/uk-property-price-data-1995-2023-04?dataset_version_number=1...\n"
     ]
    },
    {
     "name": "stderr",
     "output_type": "stream",
     "text": [
      "100%|█████████████████████████████████████████████████████████████████████████████| 1.36G/1.36G [15:54<00:00, 1.53MB/s]"
     ]
    },
    {
     "name": "stdout",
     "output_type": "stream",
     "text": [
      "Extracting files...\n"
     ]
    },
    {
     "name": "stderr",
     "output_type": "stream",
     "text": [
      "\n"
     ]
    }
   ],
   "source": [
    "path = kagglehub.dataset_download(\"willianoliveiragibin/uk-property-price-data-1995-2023-04\")"
   ]
  },
  {
   "cell_type": "code",
   "execution_count": 5,
   "id": "4fa91aa3",
   "metadata": {},
   "outputs": [
    {
     "name": "stdout",
     "output_type": "stream",
     "text": [
      "Path to dataset files: C:\\Users\\Admin\\.cache\\kagglehub\\datasets\\willianoliveiragibin\\uk-property-price-data-1995-2023-04\\versions\\1\n"
     ]
    }
   ],
   "source": [
    "print(\"Path to dataset files:\", path)"
   ]
  },
  {
   "cell_type": "code",
   "execution_count": 23,
   "id": "e911bd8c",
   "metadata": {},
   "outputs": [],
   "source": [
    "data = pd.read_csv(path + '\\\\202304.csv')"
   ]
  },
  {
   "cell_type": "code",
   "execution_count": 38,
   "id": "16cc7755",
   "metadata": {},
   "outputs": [],
   "source": [
    "data.columns=['transaction_unique_identifier', 'price', 'date_of_transfer','postcode', 'property_type', 'old_new',\n",
    "'duration', 'paon', 'saon',\n",
    "'street', 'locality', 'town_city',\n",
    "'district', 'county', 'ppd_category_type',\n",
    "'record_status'\n",
    "]"
   ]
  },
  {
   "cell_type": "code",
   "execution_count": 56,
   "id": "dad09b24",
   "metadata": {},
   "outputs": [
    {
     "data": {
      "text/html": [
       "<div>\n",
       "<style scoped>\n",
       "    .dataframe tbody tr th:only-of-type {\n",
       "        vertical-align: middle;\n",
       "    }\n",
       "\n",
       "    .dataframe tbody tr th {\n",
       "        vertical-align: top;\n",
       "    }\n",
       "\n",
       "    .dataframe thead th {\n",
       "        text-align: right;\n",
       "    }\n",
       "</style>\n",
       "<table border=\"1\" class=\"dataframe\">\n",
       "  <thead>\n",
       "    <tr style=\"text-align: right;\">\n",
       "      <th></th>\n",
       "      <th>transaction_unique_identifier</th>\n",
       "      <th>price</th>\n",
       "      <th>date_of_transfer</th>\n",
       "      <th>postcode</th>\n",
       "      <th>property_type</th>\n",
       "      <th>old_new</th>\n",
       "      <th>duration</th>\n",
       "      <th>paon</th>\n",
       "      <th>saon</th>\n",
       "      <th>street</th>\n",
       "      <th>locality</th>\n",
       "      <th>town_city</th>\n",
       "      <th>district</th>\n",
       "      <th>county</th>\n",
       "      <th>ppd_category_type</th>\n",
       "      <th>record_status</th>\n",
       "      <th>hour</th>\n",
       "    </tr>\n",
       "  </thead>\n",
       "  <tbody>\n",
       "    <tr>\n",
       "      <th>15</th>\n",
       "      <td>{E104A9E7-1D6A-4D7F-B24F-5A064FCE6917}</td>\n",
       "      <td>36500</td>\n",
       "      <td>1995-06-09</td>\n",
       "      <td>FY4 1DL</td>\n",
       "      <td>NaN</td>\n",
       "      <td>NaN</td>\n",
       "      <td>NaN</td>\n",
       "      <td>NaN</td>\n",
       "      <td>28</td>\n",
       "      <td>NaN</td>\n",
       "      <td>NaN</td>\n",
       "      <td>NaN</td>\n",
       "      <td>NaN</td>\n",
       "      <td>NaN</td>\n",
       "      <td>NaN</td>\n",
       "      <td>NaN</td>\n",
       "      <td>0</td>\n",
       "    </tr>\n",
       "    <tr>\n",
       "      <th>36</th>\n",
       "      <td>{748F870E-C337-4015-B5A3-4F499C6DDB0E}</td>\n",
       "      <td>74000</td>\n",
       "      <td>1995-01-12</td>\n",
       "      <td>RH2 9NF</td>\n",
       "      <td>NaN</td>\n",
       "      <td>NaN</td>\n",
       "      <td>NaN</td>\n",
       "      <td>SOMERS PLACE, 83 - 85</td>\n",
       "      <td>FLAT 21</td>\n",
       "      <td>NaN</td>\n",
       "      <td>NaN</td>\n",
       "      <td>NaN</td>\n",
       "      <td>NaN</td>\n",
       "      <td>NaN</td>\n",
       "      <td>NaN</td>\n",
       "      <td>NaN</td>\n",
       "      <td>0</td>\n",
       "    </tr>\n",
       "    <tr>\n",
       "      <th>41</th>\n",
       "      <td>{A684561B-E2E7-4DF3-9E77-52EB66FBBB2A}</td>\n",
       "      <td>13000</td>\n",
       "      <td>1995-04-07</td>\n",
       "      <td>CT9 1XR</td>\n",
       "      <td>NaN</td>\n",
       "      <td>NaN</td>\n",
       "      <td>NaN</td>\n",
       "      <td>NaN</td>\n",
       "      <td>FLAT 7A</td>\n",
       "      <td>NaN</td>\n",
       "      <td>NaN</td>\n",
       "      <td>NaN</td>\n",
       "      <td>NaN</td>\n",
       "      <td>NaN</td>\n",
       "      <td>NaN</td>\n",
       "      <td>NaN</td>\n",
       "      <td>0</td>\n",
       "    </tr>\n",
       "    <tr>\n",
       "      <th>48</th>\n",
       "      <td>{3DAA73FB-713D-44EA-A500-4F49B450F4F1}</td>\n",
       "      <td>29950</td>\n",
       "      <td>1995-03-31</td>\n",
       "      <td>BH1 4BD</td>\n",
       "      <td>NaN</td>\n",
       "      <td>NaN</td>\n",
       "      <td>NaN</td>\n",
       "      <td>BROOKLYN COURT, 476</td>\n",
       "      <td>FLAT 1</td>\n",
       "      <td>NaN</td>\n",
       "      <td>NaN</td>\n",
       "      <td>NaN</td>\n",
       "      <td>NaN</td>\n",
       "      <td>NaN</td>\n",
       "      <td>NaN</td>\n",
       "      <td>NaN</td>\n",
       "      <td>0</td>\n",
       "    </tr>\n",
       "    <tr>\n",
       "      <th>72</th>\n",
       "      <td>{BA12EE6C-B9E2-43ED-9F74-4F4A6CFF79A3}</td>\n",
       "      <td>26500</td>\n",
       "      <td>1995-12-11</td>\n",
       "      <td>BS23 3DT</td>\n",
       "      <td>NaN</td>\n",
       "      <td>NaN</td>\n",
       "      <td>NaN</td>\n",
       "      <td>ASHCOMBE COURT, 43</td>\n",
       "      <td>FLAT 8</td>\n",
       "      <td>NaN</td>\n",
       "      <td>NaN</td>\n",
       "      <td>NaN</td>\n",
       "      <td>NaN</td>\n",
       "      <td>NaN</td>\n",
       "      <td>NaN</td>\n",
       "      <td>NaN</td>\n",
       "      <td>0</td>\n",
       "    </tr>\n",
       "    <tr>\n",
       "      <th>92</th>\n",
       "      <td>{E3E7A54C-E2B1-4FE7-9C32-52EC36168C77}</td>\n",
       "      <td>52000</td>\n",
       "      <td>1995-07-03</td>\n",
       "      <td>SE8 5AN</td>\n",
       "      <td>NaN</td>\n",
       "      <td>NaN</td>\n",
       "      <td>NaN</td>\n",
       "      <td>NaN</td>\n",
       "      <td>22</td>\n",
       "      <td>NaN</td>\n",
       "      <td>NaN</td>\n",
       "      <td>NaN</td>\n",
       "      <td>NaN</td>\n",
       "      <td>NaN</td>\n",
       "      <td>NaN</td>\n",
       "      <td>NaN</td>\n",
       "      <td>0</td>\n",
       "    </tr>\n",
       "    <tr>\n",
       "      <th>104</th>\n",
       "      <td>{568DE11A-432B-4DA3-B9A4-83B4EC4BD127}</td>\n",
       "      <td>121250</td>\n",
       "      <td>1995-05-19</td>\n",
       "      <td>N12 8LR</td>\n",
       "      <td>NaN</td>\n",
       "      <td>NaN</td>\n",
       "      <td>NaN</td>\n",
       "      <td>NaN</td>\n",
       "      <td>FLAT 20</td>\n",
       "      <td>NaN</td>\n",
       "      <td>NaN</td>\n",
       "      <td>NaN</td>\n",
       "      <td>NaN</td>\n",
       "      <td>NaN</td>\n",
       "      <td>NaN</td>\n",
       "      <td>NaN</td>\n",
       "      <td>0</td>\n",
       "    </tr>\n",
       "    <tr>\n",
       "      <th>114</th>\n",
       "      <td>{60CF8CE4-7269-4F41-9062-91F4932AC4A2}</td>\n",
       "      <td>110995</td>\n",
       "      <td>1995-11-09</td>\n",
       "      <td>SW8 2PH</td>\n",
       "      <td>NaN</td>\n",
       "      <td>NaN</td>\n",
       "      <td>NaN</td>\n",
       "      <td>10</td>\n",
       "      <td>41</td>\n",
       "      <td>NaN</td>\n",
       "      <td>NaN</td>\n",
       "      <td>NaN</td>\n",
       "      <td>NaN</td>\n",
       "      <td>NaN</td>\n",
       "      <td>NaN</td>\n",
       "      <td>NaN</td>\n",
       "      <td>0</td>\n",
       "    </tr>\n",
       "    <tr>\n",
       "      <th>115</th>\n",
       "      <td>{C03038E8-1504-4249-BDF9-91F4A24C8E35}</td>\n",
       "      <td>34000</td>\n",
       "      <td>1995-08-18</td>\n",
       "      <td>FY5 4HW</td>\n",
       "      <td>NaN</td>\n",
       "      <td>NaN</td>\n",
       "      <td>NaN</td>\n",
       "      <td>NaN</td>\n",
       "      <td>FLAT 8</td>\n",
       "      <td>NaN</td>\n",
       "      <td>NaN</td>\n",
       "      <td>NaN</td>\n",
       "      <td>NaN</td>\n",
       "      <td>NaN</td>\n",
       "      <td>NaN</td>\n",
       "      <td>NaN</td>\n",
       "      <td>0</td>\n",
       "    </tr>\n",
       "    <tr>\n",
       "      <th>130</th>\n",
       "      <td>{2D95D765-C921-4660-A97C-87383B7F9C88}</td>\n",
       "      <td>39000</td>\n",
       "      <td>1995-05-19</td>\n",
       "      <td>BN16 2TJ</td>\n",
       "      <td>NaN</td>\n",
       "      <td>NaN</td>\n",
       "      <td>NaN</td>\n",
       "      <td>NaN</td>\n",
       "      <td>FLAT 5</td>\n",
       "      <td>NaN</td>\n",
       "      <td>NaN</td>\n",
       "      <td>NaN</td>\n",
       "      <td>NaN</td>\n",
       "      <td>NaN</td>\n",
       "      <td>NaN</td>\n",
       "      <td>NaN</td>\n",
       "      <td>0</td>\n",
       "    </tr>\n",
       "  </tbody>\n",
       "</table>\n",
       "</div>"
      ],
      "text/plain": [
       "              transaction_unique_identifier   price date_of_transfer  \\\n",
       "15   {E104A9E7-1D6A-4D7F-B24F-5A064FCE6917}   36500       1995-06-09   \n",
       "36   {748F870E-C337-4015-B5A3-4F499C6DDB0E}   74000       1995-01-12   \n",
       "41   {A684561B-E2E7-4DF3-9E77-52EB66FBBB2A}   13000       1995-04-07   \n",
       "48   {3DAA73FB-713D-44EA-A500-4F49B450F4F1}   29950       1995-03-31   \n",
       "72   {BA12EE6C-B9E2-43ED-9F74-4F4A6CFF79A3}   26500       1995-12-11   \n",
       "92   {E3E7A54C-E2B1-4FE7-9C32-52EC36168C77}   52000       1995-07-03   \n",
       "104  {568DE11A-432B-4DA3-B9A4-83B4EC4BD127}  121250       1995-05-19   \n",
       "114  {60CF8CE4-7269-4F41-9062-91F4932AC4A2}  110995       1995-11-09   \n",
       "115  {C03038E8-1504-4249-BDF9-91F4A24C8E35}   34000       1995-08-18   \n",
       "130  {2D95D765-C921-4660-A97C-87383B7F9C88}   39000       1995-05-19   \n",
       "\n",
       "     postcode  property_type  old_new  duration                   paon  \\\n",
       "15    FY4 1DL            NaN      NaN       NaN                    NaN   \n",
       "36    RH2 9NF            NaN      NaN       NaN  SOMERS PLACE, 83 - 85   \n",
       "41    CT9 1XR            NaN      NaN       NaN                    NaN   \n",
       "48    BH1 4BD            NaN      NaN       NaN    BROOKLYN COURT, 476   \n",
       "72   BS23 3DT            NaN      NaN       NaN     ASHCOMBE COURT, 43   \n",
       "92    SE8 5AN            NaN      NaN       NaN                    NaN   \n",
       "104   N12 8LR            NaN      NaN       NaN                    NaN   \n",
       "114   SW8 2PH            NaN      NaN       NaN                     10   \n",
       "115   FY5 4HW            NaN      NaN       NaN                    NaN   \n",
       "130  BN16 2TJ            NaN      NaN       NaN                    NaN   \n",
       "\n",
       "        saon street locality  town_city  district  county  ppd_category_type  \\\n",
       "15        28    NaN      NaN        NaN       NaN     NaN                NaN   \n",
       "36   FLAT 21    NaN      NaN        NaN       NaN     NaN                NaN   \n",
       "41   FLAT 7A    NaN      NaN        NaN       NaN     NaN                NaN   \n",
       "48    FLAT 1    NaN      NaN        NaN       NaN     NaN                NaN   \n",
       "72    FLAT 8    NaN      NaN        NaN       NaN     NaN                NaN   \n",
       "92        22    NaN      NaN        NaN       NaN     NaN                NaN   \n",
       "104  FLAT 20    NaN      NaN        NaN       NaN     NaN                NaN   \n",
       "114       41    NaN      NaN        NaN       NaN     NaN                NaN   \n",
       "115   FLAT 8    NaN      NaN        NaN       NaN     NaN                NaN   \n",
       "130   FLAT 5    NaN      NaN        NaN       NaN     NaN                NaN   \n",
       "\n",
       "     record_status  hour  \n",
       "15             NaN     0  \n",
       "36             NaN     0  \n",
       "41             NaN     0  \n",
       "48             NaN     0  \n",
       "72             NaN     0  \n",
       "92             NaN     0  \n",
       "104            NaN     0  \n",
       "114            NaN     0  \n",
       "115            NaN     0  \n",
       "130            NaN     0  "
      ]
     },
     "execution_count": 56,
     "metadata": {},
     "output_type": "execute_result"
    }
   ],
   "source": [
    "data.head(10)"
   ]
  },
  {
   "cell_type": "markdown",
   "id": "426cdcf2",
   "metadata": {},
   "source": [
    "# Процессинг"
   ]
  },
  {
   "cell_type": "code",
   "execution_count": 41,
   "id": "4f1b0079",
   "metadata": {},
   "outputs": [],
   "source": [
    "# Удаляем пустые строки и дубли\n",
    "data = data.dropna().drop_duplicates()"
   ]
  },
  {
   "cell_type": "code",
   "execution_count": 42,
   "id": "37ae4fbc",
   "metadata": {},
   "outputs": [],
   "source": [
    "# Преобразуем строки, не содержащие цифры, в пустые\n",
    "data = data.applymap(lambda x: x if isinstance(x, (int, float)) or any(c.isdigit() for c in str(x)) else np.nan)"
   ]
  },
  {
   "cell_type": "code",
   "execution_count": 40,
   "id": "24816a70",
   "metadata": {},
   "outputs": [],
   "source": [
    "# Удаляем записи между 1 и 3 часами ночи (предполагаем, что есть столбец 'datetime')\n",
    "if 'date_of_transfer' in data.columns:\n",
    "    data['date_of_transfer'] = pd.to_datetime(data['date_of_transfer'])\n",
    "    data = data[~((data['date_of_transfer'].dt.hour >= 1) & (data['date_of_transfer'].dt.hour <= 3))]"
   ]
  },
  {
   "cell_type": "code",
   "execution_count": null,
   "id": "18f1abab",
   "metadata": {},
   "outputs": [],
   "source": [
    "data.head(10)"
   ]
  },
  {
   "cell_type": "markdown",
   "id": "1acce3b9",
   "metadata": {},
   "source": [
    "# Расчет метрик"
   ]
  },
  {
   "cell_type": "code",
   "execution_count": 46,
   "id": "d062d63d",
   "metadata": {},
   "outputs": [],
   "source": [
    "# Расчет метрик по часам\n",
    "aggregated_data = (\n",
    "    data\n",
    "    .groupby(data['date_of_transfer'].dt.hour)\n",
    "    .agg(\n",
    "        unique_strings=('transaction_unique_identifier', 'nunique'),  # Количество уникальных значений в string_col\n",
    "        mean_numeric=('price', 'mean'),      # Среднее значение в numeric_col\n",
    "        median_numeric=('price', 'median')   # Медиана в numeric_col\n",
    "    )\n",
    "    .reset_index()\n",
    "    .rename(columns={'date_of_transfer': 'hour'})\n",
    ")"
   ]
  },
  {
   "cell_type": "markdown",
   "id": "d6e6c2ff",
   "metadata": {},
   "source": [
    "-- SQL запрос для агрегации по часам\n",
    "SELECT \n",
    "    EXTRACT(HOUR FROM date_of_transfer) AS hour,            -- Извлекаем час из столбца date_of_transfer\n",
    "    COUNT(DISTINCT transaction_unique_identifier) AS unique_strings,   -- Количество уникальных значений в transaction_unique_identifier\n",
    "    AVG(price) AS mean_numeric,               -- Среднее значение numeric_col\n",
    "    PERCENTILE_CONT(0.5) WITHIN GROUP (ORDER BY price) AS median_numeric  -- Медиана\n",
    "FROM \n",
    "    table_name\n",
    "GROUP BY \n",
    "    EXTRACT(HOUR FROM date_of_transfer)\n",
    "ORDER BY \n",
    "    hour;"
   ]
  },
  {
   "cell_type": "code",
   "execution_count": null,
   "id": "470fa01f",
   "metadata": {},
   "outputs": [],
   "source": [
    "data.head(10)"
   ]
  },
  {
   "cell_type": "markdown",
   "id": "c9138a6f",
   "metadata": {},
   "source": [
    "# Мерж с метриками"
   ]
  },
  {
   "cell_type": "code",
   "execution_count": 57,
   "id": "2e8cbf81",
   "metadata": {},
   "outputs": [],
   "source": [
    "# Добавляем час в исходный датафрейм для мержинга\n",
    "data['hour'] = data['date_of_transfer'].dt.hour"
   ]
  },
  {
   "cell_type": "code",
   "execution_count": 58,
   "id": "eb1bbac6",
   "metadata": {},
   "outputs": [],
   "source": [
    "# Мержим данные с метриками по часам с исходным датафреймом\n",
    "data = data.merge(aggregated_data, on='hour', how='left')"
   ]
  },
  {
   "cell_type": "code",
   "execution_count": 59,
   "id": "7413e22e",
   "metadata": {},
   "outputs": [],
   "source": [
    "# Удаляем временный столбец 'hour' после мержинга\n",
    "data = data.drop(columns='hour')"
   ]
  },
  {
   "cell_type": "code",
   "execution_count": 64,
   "id": "be8f5e05",
   "metadata": {},
   "outputs": [
    {
     "data": {
      "text/html": [
       "<div>\n",
       "<style scoped>\n",
       "    .dataframe tbody tr th:only-of-type {\n",
       "        vertical-align: middle;\n",
       "    }\n",
       "\n",
       "    .dataframe tbody tr th {\n",
       "        vertical-align: top;\n",
       "    }\n",
       "\n",
       "    .dataframe thead th {\n",
       "        text-align: right;\n",
       "    }\n",
       "</style>\n",
       "<table border=\"1\" class=\"dataframe\">\n",
       "  <thead>\n",
       "    <tr style=\"text-align: right;\">\n",
       "      <th></th>\n",
       "      <th>transaction_unique_identifier</th>\n",
       "      <th>price</th>\n",
       "      <th>date_of_transfer</th>\n",
       "      <th>postcode</th>\n",
       "      <th>property_type</th>\n",
       "      <th>old_new</th>\n",
       "      <th>duration</th>\n",
       "      <th>paon</th>\n",
       "      <th>saon</th>\n",
       "      <th>street</th>\n",
       "      <th>locality</th>\n",
       "      <th>town_city</th>\n",
       "      <th>district</th>\n",
       "      <th>county</th>\n",
       "      <th>ppd_category_type</th>\n",
       "      <th>record_status</th>\n",
       "      <th>unique_strings</th>\n",
       "      <th>mean_numeric</th>\n",
       "      <th>median_numeric</th>\n",
       "    </tr>\n",
       "  </thead>\n",
       "  <tbody>\n",
       "    <tr>\n",
       "      <th>0</th>\n",
       "      <td>{E104A9E7-1D6A-4D7F-B24F-5A064FCE6917}</td>\n",
       "      <td>36500</td>\n",
       "      <td>1995-06-09</td>\n",
       "      <td>FY4 1DL</td>\n",
       "      <td>NaN</td>\n",
       "      <td>NaN</td>\n",
       "      <td>NaN</td>\n",
       "      <td>NaN</td>\n",
       "      <td>28</td>\n",
       "      <td>NaN</td>\n",
       "      <td>NaN</td>\n",
       "      <td>NaN</td>\n",
       "      <td>NaN</td>\n",
       "      <td>NaN</td>\n",
       "      <td>NaN</td>\n",
       "      <td>NaN</td>\n",
       "      <td>1552361</td>\n",
       "      <td>186431.351555</td>\n",
       "      <td>140000.0</td>\n",
       "    </tr>\n",
       "    <tr>\n",
       "      <th>1</th>\n",
       "      <td>{748F870E-C337-4015-B5A3-4F499C6DDB0E}</td>\n",
       "      <td>74000</td>\n",
       "      <td>1995-01-12</td>\n",
       "      <td>RH2 9NF</td>\n",
       "      <td>NaN</td>\n",
       "      <td>NaN</td>\n",
       "      <td>NaN</td>\n",
       "      <td>SOMERS PLACE, 83 - 85</td>\n",
       "      <td>FLAT 21</td>\n",
       "      <td>NaN</td>\n",
       "      <td>NaN</td>\n",
       "      <td>NaN</td>\n",
       "      <td>NaN</td>\n",
       "      <td>NaN</td>\n",
       "      <td>NaN</td>\n",
       "      <td>NaN</td>\n",
       "      <td>1552361</td>\n",
       "      <td>186431.351555</td>\n",
       "      <td>140000.0</td>\n",
       "    </tr>\n",
       "    <tr>\n",
       "      <th>2</th>\n",
       "      <td>{A684561B-E2E7-4DF3-9E77-52EB66FBBB2A}</td>\n",
       "      <td>13000</td>\n",
       "      <td>1995-04-07</td>\n",
       "      <td>CT9 1XR</td>\n",
       "      <td>NaN</td>\n",
       "      <td>NaN</td>\n",
       "      <td>NaN</td>\n",
       "      <td>NaN</td>\n",
       "      <td>FLAT 7A</td>\n",
       "      <td>NaN</td>\n",
       "      <td>NaN</td>\n",
       "      <td>NaN</td>\n",
       "      <td>NaN</td>\n",
       "      <td>NaN</td>\n",
       "      <td>NaN</td>\n",
       "      <td>NaN</td>\n",
       "      <td>1552361</td>\n",
       "      <td>186431.351555</td>\n",
       "      <td>140000.0</td>\n",
       "    </tr>\n",
       "    <tr>\n",
       "      <th>3</th>\n",
       "      <td>{3DAA73FB-713D-44EA-A500-4F49B450F4F1}</td>\n",
       "      <td>29950</td>\n",
       "      <td>1995-03-31</td>\n",
       "      <td>BH1 4BD</td>\n",
       "      <td>NaN</td>\n",
       "      <td>NaN</td>\n",
       "      <td>NaN</td>\n",
       "      <td>BROOKLYN COURT, 476</td>\n",
       "      <td>FLAT 1</td>\n",
       "      <td>NaN</td>\n",
       "      <td>NaN</td>\n",
       "      <td>NaN</td>\n",
       "      <td>NaN</td>\n",
       "      <td>NaN</td>\n",
       "      <td>NaN</td>\n",
       "      <td>NaN</td>\n",
       "      <td>1552361</td>\n",
       "      <td>186431.351555</td>\n",
       "      <td>140000.0</td>\n",
       "    </tr>\n",
       "    <tr>\n",
       "      <th>4</th>\n",
       "      <td>{BA12EE6C-B9E2-43ED-9F74-4F4A6CFF79A3}</td>\n",
       "      <td>26500</td>\n",
       "      <td>1995-12-11</td>\n",
       "      <td>BS23 3DT</td>\n",
       "      <td>NaN</td>\n",
       "      <td>NaN</td>\n",
       "      <td>NaN</td>\n",
       "      <td>ASHCOMBE COURT, 43</td>\n",
       "      <td>FLAT 8</td>\n",
       "      <td>NaN</td>\n",
       "      <td>NaN</td>\n",
       "      <td>NaN</td>\n",
       "      <td>NaN</td>\n",
       "      <td>NaN</td>\n",
       "      <td>NaN</td>\n",
       "      <td>NaN</td>\n",
       "      <td>1552361</td>\n",
       "      <td>186431.351555</td>\n",
       "      <td>140000.0</td>\n",
       "    </tr>\n",
       "    <tr>\n",
       "      <th>5</th>\n",
       "      <td>{E3E7A54C-E2B1-4FE7-9C32-52EC36168C77}</td>\n",
       "      <td>52000</td>\n",
       "      <td>1995-07-03</td>\n",
       "      <td>SE8 5AN</td>\n",
       "      <td>NaN</td>\n",
       "      <td>NaN</td>\n",
       "      <td>NaN</td>\n",
       "      <td>NaN</td>\n",
       "      <td>22</td>\n",
       "      <td>NaN</td>\n",
       "      <td>NaN</td>\n",
       "      <td>NaN</td>\n",
       "      <td>NaN</td>\n",
       "      <td>NaN</td>\n",
       "      <td>NaN</td>\n",
       "      <td>NaN</td>\n",
       "      <td>1552361</td>\n",
       "      <td>186431.351555</td>\n",
       "      <td>140000.0</td>\n",
       "    </tr>\n",
       "    <tr>\n",
       "      <th>6</th>\n",
       "      <td>{568DE11A-432B-4DA3-B9A4-83B4EC4BD127}</td>\n",
       "      <td>121250</td>\n",
       "      <td>1995-05-19</td>\n",
       "      <td>N12 8LR</td>\n",
       "      <td>NaN</td>\n",
       "      <td>NaN</td>\n",
       "      <td>NaN</td>\n",
       "      <td>NaN</td>\n",
       "      <td>FLAT 20</td>\n",
       "      <td>NaN</td>\n",
       "      <td>NaN</td>\n",
       "      <td>NaN</td>\n",
       "      <td>NaN</td>\n",
       "      <td>NaN</td>\n",
       "      <td>NaN</td>\n",
       "      <td>NaN</td>\n",
       "      <td>1552361</td>\n",
       "      <td>186431.351555</td>\n",
       "      <td>140000.0</td>\n",
       "    </tr>\n",
       "    <tr>\n",
       "      <th>7</th>\n",
       "      <td>{60CF8CE4-7269-4F41-9062-91F4932AC4A2}</td>\n",
       "      <td>110995</td>\n",
       "      <td>1995-11-09</td>\n",
       "      <td>SW8 2PH</td>\n",
       "      <td>NaN</td>\n",
       "      <td>NaN</td>\n",
       "      <td>NaN</td>\n",
       "      <td>10</td>\n",
       "      <td>41</td>\n",
       "      <td>NaN</td>\n",
       "      <td>NaN</td>\n",
       "      <td>NaN</td>\n",
       "      <td>NaN</td>\n",
       "      <td>NaN</td>\n",
       "      <td>NaN</td>\n",
       "      <td>NaN</td>\n",
       "      <td>1552361</td>\n",
       "      <td>186431.351555</td>\n",
       "      <td>140000.0</td>\n",
       "    </tr>\n",
       "    <tr>\n",
       "      <th>8</th>\n",
       "      <td>{C03038E8-1504-4249-BDF9-91F4A24C8E35}</td>\n",
       "      <td>34000</td>\n",
       "      <td>1995-08-18</td>\n",
       "      <td>FY5 4HW</td>\n",
       "      <td>NaN</td>\n",
       "      <td>NaN</td>\n",
       "      <td>NaN</td>\n",
       "      <td>NaN</td>\n",
       "      <td>FLAT 8</td>\n",
       "      <td>NaN</td>\n",
       "      <td>NaN</td>\n",
       "      <td>NaN</td>\n",
       "      <td>NaN</td>\n",
       "      <td>NaN</td>\n",
       "      <td>NaN</td>\n",
       "      <td>NaN</td>\n",
       "      <td>1552361</td>\n",
       "      <td>186431.351555</td>\n",
       "      <td>140000.0</td>\n",
       "    </tr>\n",
       "    <tr>\n",
       "      <th>9</th>\n",
       "      <td>{2D95D765-C921-4660-A97C-87383B7F9C88}</td>\n",
       "      <td>39000</td>\n",
       "      <td>1995-05-19</td>\n",
       "      <td>BN16 2TJ</td>\n",
       "      <td>NaN</td>\n",
       "      <td>NaN</td>\n",
       "      <td>NaN</td>\n",
       "      <td>NaN</td>\n",
       "      <td>FLAT 5</td>\n",
       "      <td>NaN</td>\n",
       "      <td>NaN</td>\n",
       "      <td>NaN</td>\n",
       "      <td>NaN</td>\n",
       "      <td>NaN</td>\n",
       "      <td>NaN</td>\n",
       "      <td>NaN</td>\n",
       "      <td>1552361</td>\n",
       "      <td>186431.351555</td>\n",
       "      <td>140000.0</td>\n",
       "    </tr>\n",
       "  </tbody>\n",
       "</table>\n",
       "</div>"
      ],
      "text/plain": [
       "            transaction_unique_identifier   price date_of_transfer  postcode  \\\n",
       "0  {E104A9E7-1D6A-4D7F-B24F-5A064FCE6917}   36500       1995-06-09   FY4 1DL   \n",
       "1  {748F870E-C337-4015-B5A3-4F499C6DDB0E}   74000       1995-01-12   RH2 9NF   \n",
       "2  {A684561B-E2E7-4DF3-9E77-52EB66FBBB2A}   13000       1995-04-07   CT9 1XR   \n",
       "3  {3DAA73FB-713D-44EA-A500-4F49B450F4F1}   29950       1995-03-31   BH1 4BD   \n",
       "4  {BA12EE6C-B9E2-43ED-9F74-4F4A6CFF79A3}   26500       1995-12-11  BS23 3DT   \n",
       "5  {E3E7A54C-E2B1-4FE7-9C32-52EC36168C77}   52000       1995-07-03   SE8 5AN   \n",
       "6  {568DE11A-432B-4DA3-B9A4-83B4EC4BD127}  121250       1995-05-19   N12 8LR   \n",
       "7  {60CF8CE4-7269-4F41-9062-91F4932AC4A2}  110995       1995-11-09   SW8 2PH   \n",
       "8  {C03038E8-1504-4249-BDF9-91F4A24C8E35}   34000       1995-08-18   FY5 4HW   \n",
       "9  {2D95D765-C921-4660-A97C-87383B7F9C88}   39000       1995-05-19  BN16 2TJ   \n",
       "\n",
       "   property_type  old_new  duration                   paon     saon street  \\\n",
       "0            NaN      NaN       NaN                    NaN       28    NaN   \n",
       "1            NaN      NaN       NaN  SOMERS PLACE, 83 - 85  FLAT 21    NaN   \n",
       "2            NaN      NaN       NaN                    NaN  FLAT 7A    NaN   \n",
       "3            NaN      NaN       NaN    BROOKLYN COURT, 476   FLAT 1    NaN   \n",
       "4            NaN      NaN       NaN     ASHCOMBE COURT, 43   FLAT 8    NaN   \n",
       "5            NaN      NaN       NaN                    NaN       22    NaN   \n",
       "6            NaN      NaN       NaN                    NaN  FLAT 20    NaN   \n",
       "7            NaN      NaN       NaN                     10       41    NaN   \n",
       "8            NaN      NaN       NaN                    NaN   FLAT 8    NaN   \n",
       "9            NaN      NaN       NaN                    NaN   FLAT 5    NaN   \n",
       "\n",
       "  locality  town_city  district  county  ppd_category_type  record_status  \\\n",
       "0      NaN        NaN       NaN     NaN                NaN            NaN   \n",
       "1      NaN        NaN       NaN     NaN                NaN            NaN   \n",
       "2      NaN        NaN       NaN     NaN                NaN            NaN   \n",
       "3      NaN        NaN       NaN     NaN                NaN            NaN   \n",
       "4      NaN        NaN       NaN     NaN                NaN            NaN   \n",
       "5      NaN        NaN       NaN     NaN                NaN            NaN   \n",
       "6      NaN        NaN       NaN     NaN                NaN            NaN   \n",
       "7      NaN        NaN       NaN     NaN                NaN            NaN   \n",
       "8      NaN        NaN       NaN     NaN                NaN            NaN   \n",
       "9      NaN        NaN       NaN     NaN                NaN            NaN   \n",
       "\n",
       "   unique_strings   mean_numeric  median_numeric  \n",
       "0         1552361  186431.351555        140000.0  \n",
       "1         1552361  186431.351555        140000.0  \n",
       "2         1552361  186431.351555        140000.0  \n",
       "3         1552361  186431.351555        140000.0  \n",
       "4         1552361  186431.351555        140000.0  \n",
       "5         1552361  186431.351555        140000.0  \n",
       "6         1552361  186431.351555        140000.0  \n",
       "7         1552361  186431.351555        140000.0  \n",
       "8         1552361  186431.351555        140000.0  \n",
       "9         1552361  186431.351555        140000.0  "
      ]
     },
     "execution_count": 64,
     "metadata": {},
     "output_type": "execute_result"
    }
   ],
   "source": [
    "data.head(10)"
   ]
  },
  {
   "cell_type": "code",
   "execution_count": 75,
   "id": "d7d7c438",
   "metadata": {},
   "outputs": [
    {
     "data": {
      "image/png": "[encoded data removed]",
      "text/plain": [
       "<Figure size 1000x600 with 1 Axes>"
      ]
     },
     "metadata": {},
     "output_type": "display_data"
    }
   ],
   "source": [
    "# Построение гистограммы\n",
    "plt.figure(figsize=(10, 6))\n",
    "sns.histplot(filtered_data['price'], bins=3000, kde=True, color='skyblue')\n",
    "\n",
    "# Устанавливаем логарифмическую шкалу по оси y чтобы избежать\"выброса\"\n",
    "plt.yscale('log')\n",
    "\n",
    "plt.title('Гистограмма значений в колонке price (с логарифмической шкалой)')\n",
    "plt.xlabel('Значение')\n",
    "plt.ylabel('Частота (лог)')\n",
    "\n",
    "plt.show()"
   ]
  },
  {
   "cell_type": "code",
   "execution_count": 77,
   "id": "270f8372",
   "metadata": {},
   "outputs": [
    {
     "name": "stdout",
     "output_type": "stream",
     "text": [
      "95%-ный доверительный интервал: (185039.93, 187822.78)\n"
     ]
    }
   ],
   "source": [
    "#Расчет 95%-го доверительного интервала\n",
    "from scipy import stats\n",
    "\n",
    "mean = data['price'].mean()\n",
    "std_dev = data['price'].std()\n",
    "n = len(data['price'])\n",
    "\n",
    "# Критическое значение для 95% доверительного интервала\n",
    "z_score = stats.norm.ppf(0.975)\n",
    "\n",
    "# Расчет интервала\n",
    "ci_lower = mean - z_score * (std_dev / np.sqrt(n))\n",
    "ci_upper = mean + z_score * (std_dev / np.sqrt(n))\n",
    "\n",
    "print(f\"95%-ный доверительный интервал: ({ci_lower:.2f}, {ci_upper:.2f})\")"
   ]
  },
  {
   "cell_type": "markdown",
   "id": "6d8c3c57",
   "metadata": {},
   "source": [
    "Использовальзовался метод на основе центральной предельной теоремы, поскольку он подходит для больших выборок, даже если данные имеют отклонение от нормального распределения. Эта теорема утверждает, что при большом объеме выборки распределение выборочного среднего будет близко к нормальному, что позволяет использовать критическое значение 𝑧 для нормального распределения."
   ]
  },
  {
   "cell_type": "markdown",
   "id": "f7a01abc",
   "metadata": {},
   "source": [
    "# Визуализация"
   ]
  },
  {
   "cell_type": "code",
   "execution_count": 80,
   "id": "98a31cc1",
   "metadata": {},
   "outputs": [
    {
     "data": {
      "image/png": "[encoded data removed]",
      "text/plain": [
       "<Figure size 1200x600 with 1 Axes>"
      ]
     },
     "metadata": {},
     "output_type": "display_data"
    }
   ],
   "source": [
    "# График среднего значения price по месяцам\n",
    "\n",
    "# Добавляем столбец месяца в исходный датафрейм\n",
    "data['month'] = data['date_of_transfer'].dt.to_period('M')\n",
    "\n",
    "# Рассчитываем среднее значение по месяцам\n",
    "monthly_mean = data.groupby('month')['price'].mean().reset_index()\n",
    "\n",
    "# Преобразуем month обратно в datetime для удобного отображения на графике\n",
    "monthly_mean['month'] = monthly_mean['month'].dt.to_timestamp()\n",
    "\n",
    "plt.figure(figsize=(12, 6))\n",
    "sns.lineplot(data=monthly_mean, x='month', y='price', marker='o', color='b')\n",
    "plt.title('Среднее значение price по месяцам')\n",
    "plt.xlabel('Месяц')\n",
    "plt.ylabel('Среднее значение')\n",
    "plt.xticks(rotation=45)\n",
    "plt.show()"
   ]
  },
  {
   "cell_type": "code",
   "execution_count": 94,
   "id": "4015a7a8",
   "metadata": {},
   "outputs": [
    {
     "name": "stderr",
     "output_type": "stream",
     "text": [
      "C:\\Users\\Admin\\AppData\\Local\\Temp\\ipykernel_19660\\3280141706.py:13: FutureWarning: Passing `palette` without assigning `hue` is deprecated.\n",
      "  sns.stripplot(x='character', y='count', data=char_df, jitter=True, palette='Blues_d')\n"
     ]
    },
    {
     "data": {
      "image/png": "[encoded data removed]",
      "text/plain": [
       "<Figure size 1200x600 with 1 Axes>"
      ]
     },
     "metadata": {},
     "output_type": "display_data"
    }
   ],
   "source": [
    "from collections import Counter\n",
    "\n",
    "# Объединяем все строки в колонке postcode в один текст и считаем частотность каждого символа\n",
    "all_chars = ''.join(data['postcode'].astype(str))\n",
    "char_counts = Counter(all_chars)\n",
    "\n",
    "# Преобразуем результаты в DataFrame\n",
    "char_df = pd.DataFrame.from_dict(char_counts, orient='index', columns=['count']).reset_index()\n",
    "char_df.columns = ['character', 'count']\n",
    "\n",
    "# Строим диаграмму\n",
    "plt.figure(figsize=(12, 6))\n",
    "sns.stripplot(x='character', y='count', data=char_df, jitter=True, palette='Blues_d')\n",
    "plt.title(\"Сеточная диаграмма частотности символов в колонке postcode\")\n",
    "plt.xlabel(\"Символ\")\n",
    "plt.ylabel(\"Частота\")\n",
    "plt.xticks(rotation=90)\n",
    "plt.show()\n"
   ]
  },
  {
   "cell_type": "markdown",
   "id": "084146aa",
   "metadata": {},
   "source": [
    "# Доп. задание"
   ]
  },
  {
   "cell_type": "code",
   "execution_count": 95,
   "id": "7ce898c2",
   "metadata": {},
   "outputs": [
    {
     "name": "stdout",
     "output_type": "stream",
     "text": [
      "388866 775405\n"
     ]
    }
   ],
   "source": [
    "# 1. Разделение датасета: Для случайного деления использована \n",
    "# функция train_test_split из sklearn, которая позволяет легко \n",
    "# разделить данные в пропорциях 25%, 25% и 50%.\n",
    "\n",
    "from sklearn.model_selection import train_test_split\n",
    "\n",
    "# Разделяем датасет на три части\n",
    "data_25, temp_data = train_test_split(data, test_size=0.75, random_state=42)\n",
    "data_25, data_50 = train_test_split(temp_data, test_size=0.666, random_state=42)\n",
    "\n",
    "# Проверим размеры\n",
    "print(len(data_25), len(data_50))\n"
   ]
  },
  {
   "cell_type": "code",
   "execution_count": 98,
   "id": "aa551c87",
   "metadata": {},
   "outputs": [
    {
     "name": "stdout",
     "output_type": "stream",
     "text": [
      "T-statistic: 2.406513520917613, P-value: 0.016105762571669943\n"
     ]
    }
   ],
   "source": [
    "# 2. Проверка на статистическую значимость различий для среднего по колонке price\n",
    "from scipy import stats\n",
    "\n",
    "# t-тест для сравнения среднего значения price между двумя группами\n",
    "t_stat, p_value = stats.ttest_ind(data_25['price'], data_50['price'])\n",
    "print(f\"T-statistic: {t_stat}, P-value: {p_value}\")"
   ]
  },
  {
   "cell_type": "code",
   "execution_count": 101,
   "id": "06ece945",
   "metadata": {},
   "outputs": [
    {
     "name": "stdout",
     "output_type": "stream",
     "text": [
      "Cohen's d: 0.004271501970526656\n"
     ]
    }
   ],
   "source": [
    "# 3. Оценка силы эффекта с использованием величины эффекта Кохен\n",
    "\n",
    "from statsmodels.stats import weightstats as stests\n",
    "\n",
    "# Расчет величины эффекта (Cohen's d)\n",
    "mean_25 = np.mean(data_25['price'])\n",
    "mean_50 = np.mean(data_50['price'])\n",
    "std_25 = np.std(data_25['price'], ddof=1)\n",
    "std_50 = np.std(data_50['price'], ddof=1)\n",
    "\n",
    "cohen_d = (mean_25 - mean_50) / np.sqrt((std_25**2 + std_50**2) / 2)\n",
    "print(f\"Cohen's d: {cohen_d}\")\n"
   ]
  },
  {
   "cell_type": "code",
   "execution_count": 107,
   "id": "abc5833f",
   "metadata": {},
   "outputs": [
    {
     "name": "stdout",
     "output_type": "stream",
     "text": [
      "Оценка среднего значения для mu: 0.07511676841174901\n",
      "Оценка средней величины для sigma: 7.884153841616924\n"
     ]
    }
   ],
   "source": [
    "import numpy as np\n",
    "import scipy.stats as stats\n",
    "\n",
    "# Предположим, что data_25['price'] содержит наши данные\n",
    "data = data_25['price'].values\n",
    "\n",
    "# Инициализируем параметры (гиперпараметры для априорных распределений)\n",
    "mu_prior_mean = 0\n",
    "mu_prior_sd = 10\n",
    "sigma_prior_sd = 10\n",
    "\n",
    "# Количество выборок (например, 1000 для аппроксимации постериорного распределения)\n",
    "n_samples = 1000\n",
    "\n",
    "# Создадим пустые массивы для выборки\n",
    "mu_samples = np.zeros(n_samples)\n",
    "sigma_samples = np.zeros(n_samples)\n",
    "\n",
    "# Оценка через метод MCMC\n",
    "for i in range(n_samples):\n",
    "    # Образцы из априорного распределения для mu и sigma\n",
    "    mu_sample = np.random.normal(mu_prior_mean, mu_prior_sd)\n",
    "    sigma_sample = np.abs(np.random.normal(0, sigma_prior_sd))  # Используем абсолютное значение для полунормального распределения\n",
    "\n",
    "    # Вероятностная оценка данных (подсчёт правдоподобия)\n",
    "    likelihood = np.sum(stats.norm.logpdf(data, loc=mu_sample, scale=sigma_sample))\n",
    "    \n",
    "    # Храним результаты выборки\n",
    "    mu_samples[i] = mu_sample\n",
    "    sigma_samples[i] = sigma_sample\n",
    "\n",
    "# Оценка среднего значения для mu\n",
    "mu_mean = np.mean(mu_samples)\n",
    "sigma_mean = np.mean(sigma_samples)\n",
    "\n",
    "print(f\"Оценка среднего значения для mu: {mu_mean}\")\n",
    "print(f\"Оценка средней величины для sigma: {sigma_mean}\")\n",
    "\n"
   ]
  },
  {
   "cell_type": "markdown",
   "id": "af6a8e82",
   "metadata": {},
   "source": [
    "## Доп задание 2"
   ]
  },
  {
   "cell_type": "raw",
   "id": "f675cca8",
   "metadata": {},
   "source": [
    "Для оценки вероятности успеха следующего прототипа можно использовать байесовский подход. В данном случае мы можем рассматривать успехи и неуспехи как события с определёнными вероятностями.\n",
    "\n",
    "Предположим, что изначально у нас нет информации о вероятности успеха, и установим равномерное распределение вероятности успеха (например, от 0 до 1).\n",
    "\n",
    "Для расчёта можно использовать наблюдаемые данные:\n",
    "\n",
    "1. У конкурента: 1000 прототипов, из которых 5 успешных (вероятность успеха — 5/1000).\n",
    "2. У нашей компании: 200 прототипов, все неуспешные (вероятность успеха — 0/200).\n",
    "3. Используя байесовскую формулу, мы можем обновить вероятность успеха на основе этих данных.\n",
    "\n",
    "\n",
    "Для решения задачи с помощью Байесовского подхода можно применить апостериорное распределение для вероятности успеха.\n",
    "\n",
    "Начнём с априорного распределения (например, равномерное распределение для вероятности успеха). Можно использовать Бета(1, 1), что соответствует равномерному распределению.\n",
    "Затем обновим это распределение с учётом наших данных (данных о количестве успешных игр)."
   ]
  },
  {
   "cell_type": "code",
   "execution_count": 109,
   "id": "c97150cf",
   "metadata": {},
   "outputs": [
    {
     "data": {
      "image/png": "[encoded data removed]",
      "text/plain": [
       "<Figure size 1000x600 with 1 Axes>"
      ]
     },
     "metadata": {},
     "output_type": "display_data"
    },
    {
     "name": "stdout",
     "output_type": "stream",
     "text": [
      "Ожидаемая вероятность успеха 201-го прототипа: 0.0050\n"
     ]
    }
   ],
   "source": [
    "import numpy as np\n",
    "import matplotlib.pyplot as plt\n",
    "from scipy.stats import beta\n",
    "\n",
    "# Данные\n",
    "successful_competitor = 5  # успешные игры конкурента\n",
    "total_competitor = 1000  # всего игр у конкурента\n",
    "successful_ours = 0  # успешные игры нашей компании\n",
    "total_ours = 200  # всего игр у нашей компании\n",
    "\n",
    "# Априорное распределение (Бета распределение с параметрами 1, 1 - равномерное)\n",
    "alpha_prior = 1\n",
    "beta_prior = 1\n",
    "\n",
    "# Обновление параметров Бета распределения на основе данных\n",
    "alpha_post = alpha_prior + successful_ours  # успешные игры у нас\n",
    "beta_post = beta_prior + (total_ours - successful_ours)  # неуспешные игры у нас\n",
    "\n",
    "# Создаём значения для вероятности успеха\n",
    "x = np.linspace(0, 1, 1000)\n",
    "\n",
    "# Априорная и апостериорная плотности\n",
    "prior_pdf = beta.pdf(x, alpha_prior, beta_prior)\n",
    "posterior_pdf = beta.pdf(x, alpha_post, beta_post)\n",
    "\n",
    "# Визуализация\n",
    "plt.figure(figsize=(10, 6))\n",
    "plt.plot(x, prior_pdf, label='Априорное распределение (Beta(1, 1))', color='blue')\n",
    "plt.plot(x, posterior_pdf, label=f'Апостериорное распределение (Beta({alpha_post}, {beta_post}))', color='red')\n",
    "plt.title(\"Байесовский подход: Обновление вероятности успеха\")\n",
    "plt.xlabel(\"Вероятность успеха\")\n",
    "plt.ylabel(\"Плотность вероятности\")\n",
    "plt.legend()\n",
    "plt.grid(True)\n",
    "plt.show()\n",
    "\n",
    "# Вероятность успеха для следующего прототипа (среднее апостериорного распределения)\n",
    "expected_success_prob = alpha_post / (alpha_post + beta_post)\n",
    "print(f\"Ожидаемая вероятность успеха 201-го прототипа: {expected_success_prob:.4f}\")\n",
    "\n"
   ]
  },
  {
   "cell_type": "raw",
   "id": "7a22b5d3",
   "metadata": {},
   "source": [
    "В этом примере для sigma_sample мы используем np.abs(np.random.normal(0, sigma_prior_sd)), что позволяет создать выборки из полунормального распределения с использованием абсолютных значений нормальных выборок с нулевым средним и стандартным отклонением, равным sigma_prior_sd."
   ]
  },
  {
   "cell_type": "markdown",
   "id": "ec0b9967",
   "metadata": {},
   "source": [
    "# Комментарий к тесту"
   ]
  },
  {
   "cell_type": "raw",
   "id": "e545bd70",
   "metadata": {},
   "source": [
    "На все задачи было потрачено около 3х часов.\n",
    "# Я не сильный специалист в аналитике, мои компетенции в большей степени - это проектирование хранилищ, разработка пайплайнов и обработка данных, поэтому в решении данных задач использовался ChatGPT, что ускорило выполнение."
   ]
  }
 ],
 "metadata": {
  "kernelspec": {
   "display_name": "Python 3 (ipykernel)",
   "language": "python",
   "name": "python3"
  },
  "language_info": {
   "codemirror_mode": {
    "name": "ipython",
    "version": 3
   },
   "file_extension": ".py",
   "mimetype": "text/x-python",
   "name": "python",
   "nbconvert_exporter": "python",
   "pygments_lexer": "ipython3",
   "version": "3.11.5"
  }
 },
 "nbformat": 4,
 "nbformat_minor": 5
}
